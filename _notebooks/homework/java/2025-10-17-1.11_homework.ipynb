{
 "cells": [
  {
   "cell_type": "markdown",
   "id": "9ccf770a",
   "metadata": {},
   "source": [
    "---\n",
    "layout: post\n",
    "title: \"1.11 HW Hacks\"\n",
    "permalink: /csa/unit_01/1_11\n",
    "---"
   ]
  },
  {
   "cell_type": "markdown",
   "id": "8a811882",
   "metadata": {},
   "source": [
    "## Popcorn Hack #1: Power Level Calculator"
   ]
  },
  {
   "cell_type": "code",
   "execution_count": null,
   "id": "76a246fd",
   "metadata": {
    "vscode": {
     "languageId": "java"
    }
   },
   "outputs": [
    {
     "name": "stdout",
     "output_type": "stream",
     "text": [
      "Enter the level: Level: 2\n",
      "Base Power: 100\n",
      "Final Power: 144.00\n"
     ]
    }
   ],
   "source": [
    "import java.util.Scanner;\n",
    "\n",
    "public class Main {\n",
    "    public static void main(String[] args) {\n",
    "        Scanner scanner = new Scanner(System.in);\n",
    "        \n",
    "        int base = 100;\n",
    "        \n",
    "        // Get user input to determine level\n",
    "        System.out.print(\"Enter the level: \");\n",
    "        int level = scanner.nextInt();\n",
    "        System.out.print(\"\");\n",
    "\n",
    "        // Calculate final power based off base and level\n",
    "        double finalPower = base * Math.pow(1.2, level);\n",
    "\n",
    "   \n",
    "        // Print variables\n",
    "        System.out.printf(\"Level: %d\\n\", level);\n",
    "        System.out.printf(\"Base Power: %d\\n\", base);\n",
    "        System.out.printf(\"Final Power: %,.2f\\n\", finalPower);\n",
    "\n",
    "        scanner.close();\n",
    "    }\n",
    "}\n",
    "\n",
    "\n",
    "Main.main(null);"
   ]
  },
  {
   "cell_type": "markdown",
   "id": "8009177c",
   "metadata": {},
   "source": [
    "## Popcorn Hack #2: Loot Drop Simulator"
   ]
  },
  {
   "cell_type": "code",
   "execution_count": null,
   "id": "bbb4f260",
   "metadata": {
    "vscode": {
     "languageId": "java"
    }
   },
   "outputs": [
    {
     "name": "stdout",
     "output_type": "stream",
     "text": [
      "Loot Drop!\n",
      "You got: LEGENDARY item\n",
      "Gold value: 86\n"
     ]
    }
   ],
   "source": [
    "public class Main {\n",
    "    public static void main(String[] args) {\n",
    "        int gold = 0;\n",
    "        String rarityCategory;\n",
    "\n",
    "        // Store a random number 1-100\n",
    "        double rarityNumber = (int)(Math.random() * 100) + 1;\n",
    "\n",
    "        // Assign rarity category based off random number\n",
    "        if (rarityNumber < 60) {\n",
    "            rarityCategory = \"Common\";\n",
    "            gold = (int)(Math.random() * 20 + 10);\n",
    "        } else if (rarityNumber < 85) {\n",
    "            rarityCategory = \"Rare\";\n",
    "            gold = (int)(Math.random() * 30 + 30);\n",
    "        } else {\n",
    "            rarityCategory = \"Legendary\";\n",
    "            gold = (int)(Math.random() * 30 + 70);\n",
    "        }\n",
    "        \n",
    "        // Print item that was retrieved and its value\n",
    "        System.out.println(\"Loot Drop!\");\n",
    "        System.out.printf(\"You got: %s item\\n\", rarityCategory.toUpperCase());\n",
    "        System.out.printf(\"Gold value: %d\\n\", gold);\n",
    "    }\n",
    "}\n",
    "\n",
    "Main.main(null);"
   ]
  },
  {
   "cell_type": "markdown",
   "id": "d07dd3b5",
   "metadata": {
    "vscode": {
     "languageId": "java"
    }
   },
   "source": [
    "## Homework Hack"
   ]
  },
  {
   "cell_type": "markdown",
   "id": "023aa871",
   "metadata": {
    "vscode": {
     "languageId": "java"
    }
   },
   "source": [
    "### Part A: Health Difference Calculator\n",
    "Write a method that calculates the absolute difference between two players’ health values."
   ]
  },
  {
   "cell_type": "code",
   "execution_count": 6,
   "id": "2b3b30dc",
   "metadata": {
    "vscode": {
     "languageId": "java"
    }
   },
   "outputs": [
    {
     "name": "stdout",
     "output_type": "stream",
     "text": [
      "80\n",
      "80\n",
      "43\n",
      "9\n"
     ]
    }
   ],
   "source": [
    "public static int healthDifference(int player1Health, int player2Health) {\n",
    "    return Math.abs(player1Health - player2Health);\n",
    "}\n",
    "\n",
    "System.out.println(healthDifference(20,100));\n",
    "System.out.println(healthDifference(100,20));\n",
    "System.out.println(healthDifference(35,78));\n",
    "System.out.println(healthDifference(67,76));"
   ]
  },
  {
   "cell_type": "markdown",
   "id": "c9516b5e",
   "metadata": {},
   "source": [
    "### Part B: Attack Damage Calculator\n",
    "Write a method that calculates attack damage using a base damage and a power multiplier.\n"
   ]
  },
  {
   "cell_type": "code",
   "execution_count": 10,
   "id": "938f8b1c",
   "metadata": {
    "vscode": {
     "languageId": "java"
    }
   },
   "outputs": [
    {
     "name": "stdout",
     "output_type": "stream",
     "text": [
      "11.25\n"
     ]
    },
    {
     "name": "stdout",
     "output_type": "stream",
     "text": [
      "102.515625\n"
     ]
    }
   ],
   "source": [
    "public static double calculateDamage(double baseDamage, double powerLevel) {\n",
    "    return baseDamage * Math.pow(1.5, powerLevel);\n",
    "}\n",
    "\n",
    "System.out.println(calculateDamage(5,2));\n",
    "System.out.println(calculateDamage(6,7));"
   ]
  },
  {
   "cell_type": "markdown",
   "id": "dd74396d",
   "metadata": {},
   "source": [
    "### Part C: Distance Detector\n",
    "Write a method that calculates the distance between a player and an enemy using the distance formula."
   ]
  },
  {
   "cell_type": "code",
   "execution_count": 32,
   "id": "70423bdf",
   "metadata": {
    "vscode": {
     "languageId": "java"
    }
   },
   "outputs": [
    {
     "name": "stdout",
     "output_type": "stream",
     "text": [
      "9.22\n"
     ]
    },
    {
     "name": "stdout",
     "output_type": "stream",
     "text": [
      "30.07\n"
     ]
    },
    {
     "data": {
      "text/plain": [
       "java.io.PrintStream@2e4af9e3"
      ]
     },
     "execution_count": 32,
     "metadata": {},
     "output_type": "execute_result"
    }
   ],
   "source": [
    "public static double findDistance(int playerX, int playerY, int enemyX, int enemyY) {\n",
    "    return Math.sqrt(Math.pow(enemyX - playerX, 2) + Math.pow(enemyY - playerY, 2));\n",
    "}\n",
    "\n",
    "System.out.printf(\"%,.2f\\n\", findDistance(0,0,6,7));\n",
    "System.out.printf(\"%,.2f\\n\", findDistance(20,32,50,34));\n"
   ]
  },
  {
   "cell_type": "markdown",
   "id": "aa8d3b23",
   "metadata": {},
   "source": [
    "### Part D: Random Loot Generator\n",
    "Write a method that generates a random loot value within a specific range."
   ]
  },
  {
   "cell_type": "code",
   "execution_count": 65,
   "id": "0c76faeb",
   "metadata": {
    "vscode": {
     "languageId": "java"
    }
   },
   "outputs": [
    {
     "name": "stdout",
     "output_type": "stream",
     "text": [
      "11\n",
      "20\n"
     ]
    }
   ],
   "source": [
    "public static int generateLoot(int minValue, int maxValue) {\n",
    "     return (int)(Math.random() * (maxValue - minValue + 1) + minValue);\n",
    "}\n",
    "\n",
    "System.out.println(generateLoot(6,70));\n",
    "System.out.println(generateLoot(1,100));"
   ]
  }
 ],
 "metadata": {
  "kernelspec": {
   "display_name": "java (JJava/j!)",
   "language": "java",
   "name": "jbang-jjava"
  },
  "language_info": {
   "codemirror_mode": "java",
   "file_extension": ".jshell",
   "mimetype": "text/x-java-source",
   "name": "Java",
   "pygments_lexer": "java",
   "version": "17.0.16+8-Ubuntu-0ubuntu122.04.1"
  }
 },
 "nbformat": 4,
 "nbformat_minor": 5
}
