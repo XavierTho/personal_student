{
 "cells": [
  {
   "cell_type": "raw",
   "id": "c0b7486d",
   "metadata": {
    "vscode": {
     "languageId": "raw"
    }
   },
   "source": [
    "---\n",
    "layout: post\n",
    "title: \"1.7 HW Hacks\"\n",
    "permalink: /csa/unit_01/1_7\n",
    "---"
   ]
  },
  {
   "cell_type": "markdown",
   "id": "35f67f88",
   "metadata": {},
   "source": [
    "## Popcorn Hack 1"
   ]
  },
  {
   "cell_type": "code",
   "execution_count": 4,
   "id": "b4325071",
   "metadata": {
    "vscode": {
     "languageId": "java"
    }
   },
   "outputs": [
    {
     "name": "stdout",
     "output_type": "stream",
     "text": [
      "3\n"
     ]
    }
   ],
   "source": [
    "// Popcorn Hack #1: Complete this code\n",
    "\n",
    "import java.util.ArrayList;\n",
    "\n",
    "public class PopcornHack1 {\n",
    "    public static void main(String[] args) {\n",
    "        // TODO: Use Math.pow() to calculate 3^4\n",
    "        Math.pow(3,4);\n",
    "        \n",
    "        // TODO: Use Math.sqrt() to find square root of 64\n",
    "        Math.sqrt(64);\n",
    "        \n",
    "        // TODO: Create ArrayList of Strings\n",
    "        ArrayList<String> colors = new ArrayList<String>();\n",
    "        \n",
    "        // TODO: Add 3 colors (\"red\", \"blue\", \"green\")\n",
    "        colors.add(\"red\");\n",
    "        colors.add(\"blue\");\n",
    "        colors.add(\"green\");\n",
    "        \n",
    "        // TODO: Print the size\n",
    "        System.out.println(colors.size());\n",
    "        \n",
    "    }\n",
    "}\n",
    "\n",
    "PopcornHack1.main(null)"
   ]
  },
  {
   "cell_type": "markdown",
   "id": "f20dd1b1",
   "metadata": {},
   "source": [
    "## Popcorn Hack 2"
   ]
  },
  {
   "cell_type": "code",
   "execution_count": 19,
   "id": "b144d8fe",
   "metadata": {
    "vscode": {
     "languageId": "java"
    }
   },
   "outputs": [
    {
     "name": "stdout",
     "output_type": "stream",
     "text": [
      "The book is The Return of the King and it was written by J. R. R.. The book is 416 pages long."
     ]
    }
   ],
   "source": [
    "// Popcorn Hack #2: Complete the Book class\n",
    "\n",
    "public class Book {\n",
    "    // TODO: Add 3 attributes (title, author, pages)\n",
    "    String title;\n",
    "    String author;\n",
    "    int pages;\n",
    "\n",
    "    // TODO: Add constructor\n",
    "    public Book(String title, String author, int pages) {\n",
    "        this.title = title;\n",
    "        this.author = author;\n",
    "        this.pages = pages;\n",
    "    }\n",
    "    \n",
    "    // TODO: Add displayInfo() method\n",
    "    public void displayInfo() {\n",
    "         System.out.printf(\"The book is %s and it was written by %s. The book is %d pages long.\", title, author, pages);\n",
    "    }\n",
    "}\n",
    "\n",
    "// TODO: Create a Book object and test all methods\n",
    "Book myBook = new Book(\"The Return of the King\", \"J. R. R.\", 416);\n",
    "\n",
    "myBook.displayInfo();"
   ]
  },
  {
   "cell_type": "markdown",
   "id": "45dffb5e",
   "metadata": {},
   "source": [
    "## Homework Hack: Phone Class"
   ]
  },
  {
   "cell_type": "code",
   "execution_count": 48,
   "id": "dd747aca",
   "metadata": {
    "vscode": {
     "languageId": "java"
    }
   },
   "outputs": [
    {
     "name": "stdout",
     "output_type": "stream",
     "text": [
      "The brand of the phone is Samsung. The model of the phone is 25. The battery of the phone is 80\n",
      "Contacts: [Bob, Billy, Boe]\n",
      "The brand of the phone is iPhone. The model of the phone is 17. The battery of the phone is 50\n",
      "Contacts: [Jill, Jane, Jocelyn]\n"
     ]
    }
   ],
   "source": [
    "import java.util.ArrayList;\n",
    "\n",
    "public class Phone {\n",
    "    String brand;\n",
    "    String model;\n",
    "    int batteryLevel = 100;\n",
    "    ArrayList<String> contacts = new ArrayList<String>();\n",
    "\n",
    "    public Phone(String brand, String model) {\n",
    "        this.brand = brand;\n",
    "        this.model = model;\n",
    "        this.batteryLevel = 100;\n",
    "        this.contacts = contacts;\n",
    "    }\n",
    "\n",
    "    public void displayInfo() {\n",
    "        System.out.printf(\"The brand of the phone is %s. The model of the phone is %s. The battery of the phone is %d\\n\", brand, model, batteryLevel);\n",
    "    }\n",
    "\n",
    "    public void addContact(String name) {\n",
    "        contacts.add(name);\n",
    "    }\n",
    "\n",
    "    public void showContacts() {\n",
    "        System.out.println(\"Contacts: \" + contacts);\n",
    "    }\n",
    "    \n",
    "    public void usePhone (int minutes) {\n",
    "        batteryLevel -= minutes;\n",
    "    }\n",
    "}\n",
    "\n",
    "public class PhoneTest {\n",
    "    public static void main(String[] args) {\n",
    "        // Set up Samsung Phone\n",
    "        Phone samsungPhone = new Phone(\"Samsung\", \"25\");\n",
    "\n",
    "        samsungPhone.addContact(\"Bob\");\n",
    "        samsungPhone.addContact(\"Billy\");\n",
    "        samsungPhone.addContact(\"Boe\");\n",
    "\n",
    "        samsungPhone.usePhone(20);\n",
    "\n",
    "        // Set up Apple Phone\n",
    "        Phone applePhone = new Phone(\"iPhone\", \"17\");\n",
    "\n",
    "        applePhone.addContact(\"Jill\");\n",
    "        applePhone.addContact(\"Jane\");\n",
    "        applePhone.addContact(\"Jocelyn\");\n",
    "\n",
    "        applePhone.usePhone(50);\n",
    "\n",
    "        // Display info of created phones\n",
    "        samsungPhone.displayInfo();\n",
    "        samsungPhone.showContacts();\n",
    "\n",
    "        applePhone.displayInfo();\n",
    "        applePhone.showContacts();\n",
    "\n",
    "    }\n",
    "}\n",
    "\n",
    "PhoneTest.main(null);"
   ]
  }
 ],
 "metadata": {
  "kernelspec": {
   "display_name": "java (JJava/j!)",
   "language": "java",
   "name": "jbang-jjava"
  },
  "language_info": {
   "codemirror_mode": "java",
   "file_extension": ".jshell",
   "mimetype": "text/x-java-source",
   "name": "Java",
   "pygments_lexer": "java",
   "version": "17.0.16+8-Ubuntu-0ubuntu122.04.1"
  }
 },
 "nbformat": 4,
 "nbformat_minor": 5
}
