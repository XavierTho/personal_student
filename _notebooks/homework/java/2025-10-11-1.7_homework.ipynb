{
 "cells": [
  {
   "cell_type": "raw",
   "id": "c0b7486d",
   "metadata": {
    "vscode": {
     "languageId": "raw"
    }
   },
   "source": [
    "---\n",
    "layout: post\n",
    "title: \"1.7 HW Hacks\"\n",
    "permalink: /csa/unit_01/1_7\n",
    "---"
   ]
  },
  {
   "cell_type": "markdown",
   "id": "35f67f88",
   "metadata": {},
   "source": [
    "## Popcorn Hack 1"
   ]
  },
  {
   "cell_type": "raw",
   "id": "b4325071",
   "metadata": {
    "vscode": {
     "languageId": "raw"
    }
   },
   "source": [
    "/*\n",
    "public class stuff{\n",
    "public static void main(String args[]){\n",
    "int x=5;\n",
    "int y=10;\n",
    "int z=add(x,y);\n",
    "System.out.println(\"ans is \"+z);\n",
    "}\n",
    "\n",
    "static int add(int a,int b){\n",
    "return a+b;\n",
    "}\n",
    "}\n",
    " */"
   ]
  },
  {
   "cell_type": "markdown",
   "id": "de478b11",
   "metadata": {},
   "source": [
    "What was improved:  "
   ]
  },
  {
   "cell_type": "markdown",
   "id": "f20dd1b1",
   "metadata": {},
   "source": [
    "## Popcorn Hack 2"
   ]
  },
  {
   "cell_type": "markdown",
   "id": "45dffb5e",
   "metadata": {},
   "source": [
    "## Homework Hack 1"
   ]
  },
  {
   "cell_type": "markdown",
   "id": "1f80c4ea",
   "metadata": {},
   "source": [
    "## Homework Hack 2"
   ]
  },
  {
   "cell_type": "markdown",
   "id": "5b768f5a",
   "metadata": {},
   "source": [
    "## Homework Hack 3"
   ]
  }
 ],
 "metadata": {
  "language_info": {
   "name": "python"
  }
 },
 "nbformat": 4,
 "nbformat_minor": 5
}
