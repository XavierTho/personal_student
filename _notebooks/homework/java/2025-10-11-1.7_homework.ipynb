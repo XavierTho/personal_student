{
 "cells": [
  {
   "cell_type": "raw",
   "id": "c0b7486d",
   "metadata": {
    "vscode": {
     "languageId": "raw"
    }
   },
   "source": [
    "---\n",
    "layout: post\n",
    "title: \"1.7 HW Hacks\"\n",
    "permalink: /csa/unit_01/1_7\n",
    "---"
   ]
  },
  {
   "cell_type": "markdown",
   "id": "35f67f88",
   "metadata": {},
   "source": []
  }
 ],
 "metadata": {
  "language_info": {
   "name": "python"
  }
 },
 "nbformat": 4,
 "nbformat_minor": 5
}
