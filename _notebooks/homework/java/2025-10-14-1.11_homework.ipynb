{
 "cells": [
  {
   "cell_type": "markdown",
   "id": "9ccf770a",
   "metadata": {},
   "source": [
    "---\n",
    "layout: post\n",
    "title: \"1.11 HW Hacks\"\n",
    "permalink: /csa/unit_01/1_11\n",
    "---"
   ]
  },
  {
   "cell_type": "markdown",
   "id": "8a811882",
   "metadata": {},
   "source": [
    "## Popcorn Hack #1: Power Level Calculator"
   ]
  },
  {
   "cell_type": "code",
   "execution_count": null,
   "id": "76a246fd",
   "metadata": {
    "vscode": {
     "languageId": "java"
    }
   },
   "outputs": [
    {
     "name": "stdout",
     "output_type": "stream",
     "text": [
      "Enter the level: Level: 2\n",
      "Base Power: 100\n",
      "Final Power: 144.00\n"
     ]
    }
   ],
   "source": [
    "import java.util.Scanner;\n",
    "\n",
    "public class Main {\n",
    "    public static void main(String[] args) {\n",
    "        Scanner scanner = new Scanner(System.in);\n",
    "        \n",
    "        int base = 100;\n",
    "        \n",
    "        System.out.print(\"Enter the level: \");\n",
    "        int level = scanner.nextInt();\n",
    "        System.out.print(\"\");\n",
    "\n",
    "        double finalPower = base * Math.pow(1.2, level);\n",
    "\n",
    "   \n",
    "\n",
    "        System.out.printf(\"Level: %d\\n\", level);\n",
    "        System.out.printf(\"Base Power: %d\\n\", base);\n",
    "        System.out.printf(\"Final Power: %,.2f\\n\", finalPower);\n",
    "\n",
    "        scanner.close();\n",
    "    }\n",
    "}\n",
    "\n",
    "\n",
    "Main.main(null);"
   ]
  },
  {
   "cell_type": "markdown",
   "id": "8009177c",
   "metadata": {},
   "source": [
    "## Popcorn Hack #2: Loot Drop Simulator"
   ]
  },
  {
   "cell_type": "code",
   "execution_count": 404,
   "id": "bbb4f260",
   "metadata": {
    "vscode": {
     "languageId": "java"
    }
   },
   "outputs": [
    {
     "name": "stdout",
     "output_type": "stream",
     "text": [
      "Loot Drop!\n",
      "You got: RARE item\n",
      "Gold value: 36\n"
     ]
    }
   ],
   "source": [
    "public class Main {\n",
    "    public static void main(String[] args) {\n",
    "        int gold = 0;\n",
    "        String rarityCategory;\n",
    "        double rarityNumber = (int)(Math.random() * 100) + 1;\n",
    "\n",
    "        if (rarityNumber < 60) {\n",
    "            rarityCategory = \"Common\";\n",
    "            gold = (int)(Math.random() * 20 + 10);\n",
    "        } else if (rarityNumber < 85) {\n",
    "            rarityCategory = \"Rare\";\n",
    "            gold = (int)(Math.random() * 30 + 30);\n",
    "        } else {\n",
    "            rarityCategory = \"Legendary\";\n",
    "            gold = (int)(Math.random() * 30 + 70);\n",
    "        }\n",
    "        \n",
    "        System.out.println(\"Loot Drop!\");\n",
    "        System.out.printf(\"You got: %s item\\n\", rarityCategory.toUpperCase());\n",
    "        System.out.printf(\"Gold value: %d\\n\", gold);\n",
    "    }\n",
    "}\n",
    "\n",
    "Main.main(null);"
   ]
  },
  {
   "cell_type": "code",
   "execution_count": null,
   "id": "678dd62f",
   "metadata": {
    "vscode": {
     "languageId": "java"
    }
   },
   "outputs": [],
   "source": []
  }
 ],
 "metadata": {
  "kernelspec": {
   "display_name": "java (JJava/j!)",
   "language": "java",
   "name": "jbang-jjava"
  },
  "language_info": {
   "codemirror_mode": "java",
   "file_extension": ".jshell",
   "mimetype": "text/x-java-source",
   "name": "Java",
   "pygments_lexer": "java",
   "version": "17.0.16+8-Ubuntu-0ubuntu122.04.1"
  }
 },
 "nbformat": 4,
 "nbformat_minor": 5
}
