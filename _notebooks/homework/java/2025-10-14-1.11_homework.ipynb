{
 "cells": [
  {
   "cell_type": "markdown",
   "id": "9ccf770a",
   "metadata": {},
   "source": [
    "---\n",
    "layout: post\n",
    "title: \"1.11 HW Hacks\"\n",
    "permalink: /csa/unit_01/1_11\n",
    "---"
   ]
  },
  {
   "cell_type": "markdown",
   "id": "8a811882",
   "metadata": {},
   "source": [
    "## Popcorn Hack 1"
   ]
  },
  {
   "cell_type": "code",
   "execution_count": null,
   "id": "76a246fd",
   "metadata": {},
   "outputs": [
    {
     "name": "stdout",
     "output_type": "stream",
     "text": [
      "Enter the level: Level: 5\n",
      "Base Power: 100\n",
      "Final Power: 248.83\n"
     ]
    }
   ],
   "source": [
    "import java.util.Scanner;\n",
    "\n",
    "public class Main {\n",
    "    public static void main(String[] args) {\n",
    "        Scanner scanner = new Scanner(System.in);\n",
    "        \n",
    "        int base = 100;\n",
    "    \n",
    "        System.out.print(\"Enter the level: \");\n",
    "        int level = scanner.nextInt();\n",
    "        System.out.print(\"\");\n",
    "\n",
    "        double finalPower = base * Math.pow(1.2, level);\n",
    "\n",
    "   \n",
    "\n",
    "        System.out.printf(\"Level: %d\\n\", level);\n",
    "        System.out.printf(\"Base Power: %d\\n\", base);\n",
    "        System.out.printf(\"Final Power: %,.2f\\n\", finalPower);\n",
    "\n",
    "        scanner.close();\n",
    "    }\n",
    "}\n",
    "\n",
    "\n",
    "Main.main(null);"
   ]
  },
  {
   "cell_type": "code",
   "execution_count": null,
   "id": "8009177c",
   "metadata": {},
   "outputs": [],
   "source": []
  }
 ],
 "metadata": {
  "kernelspec": {
   "display_name": "java (JJava/j!)",
   "language": "java",
   "name": "jbang-jjava"
  },
  "language_info": {
   "codemirror_mode": "java",
   "file_extension": ".jshell",
   "mimetype": "text/x-java-source",
   "name": "java",
   "pygments_lexer": "java",
   "version": "17.0.16+8-Ubuntu-0ubuntu122.04.1"
  }
 },
 "nbformat": 4,
 "nbformat_minor": 5
}
