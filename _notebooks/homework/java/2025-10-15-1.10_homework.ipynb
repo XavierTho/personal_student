{
 "cells": [
  {
   "cell_type": "raw",
   "id": "a3b9c2e8",
   "metadata": {
    "vscode": {
     "languageId": "raw"
    }
   },
   "source": [
    "---\n",
    "layout: post\n",
    "title: \"1.10 HW Hacks\"\n",
    "permalink: /csa/unit_01/1_10\n",
    "---"
   ]
  },
  {
   "cell_type": "code",
   "execution_count": 10,
   "id": "832acfc2",
   "metadata": {
    "vscode": {
     "languageId": "java"
    }
   },
   "outputs": [
    {
     "name": "stdout",
     "output_type": "stream",
     "text": [
      "You hit with 100 Damage\n",
      "You have full health\n",
      "BATTLE HAS STARTED!\n"
     ]
    }
   ],
   "source": [
    "class Soldier {\n",
    "    String name;\n",
    "    int power;\n",
    "    int health;\n",
    "    int speed;\n",
    "\n",
    "    void attack() {\n",
    "        System.out.println(\"You hit with 100 Damage\");\n",
    "    };\n",
    "    void printStatus() {\n",
    "        System.out.println(\"You have full health\");\n",
    "    };\n",
    "}\n",
    "\n",
    "public class Main {\n",
    "    public static void main(String[] args) {\n",
    "        Soldier soldier = new Soldier();\n",
    "\n",
    "        soldier.attack();\n",
    "        soldier.printStatus();\n",
    "\n",
    "        System.out.println(\"BATTLE HAS STARTED!\");\n",
    "    }\n",
    "}\n",
    "\n",
    "Main.main(null);"
   ]
  }
 ],
 "metadata": {
  "kernelspec": {
   "display_name": "java (JJava/j!)",
   "language": "java",
   "name": "jbang-jjava"
  },
  "language_info": {
   "codemirror_mode": "java",
   "file_extension": ".jshell",
   "mimetype": "text/x-java-source",
   "name": "Java",
   "pygments_lexer": "java",
   "version": "17.0.16+8-Ubuntu-0ubuntu122.04.1"
  }
 },
 "nbformat": 4,
 "nbformat_minor": 5
}
