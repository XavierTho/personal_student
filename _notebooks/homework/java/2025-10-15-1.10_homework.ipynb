{
 "cells": [
  {
   "cell_type": "raw",
   "id": "a3b9c2e8",
   "metadata": {
    "vscode": {
     "languageId": "raw"
    }
   },
   "source": [
    "---\n",
    "layout: post\n",
    "title: \"1.10 HW Hacks\"\n",
    "permalink: /csa/unit_01/1_10\n",
    "---"
   ]
  },
  {
   "cell_type": "markdown",
   "id": "726acb09",
   "metadata": {},
   "source": [
    "## Popcorn Hack"
   ]
  },
  {
   "cell_type": "code",
   "execution_count": 6,
   "id": "9042c195",
   "metadata": {
    "vscode": {
     "languageId": "java"
    }
   },
   "outputs": [
    {
     "name": "stdout",
     "output_type": "stream",
     "text": [
      "Sup bro?\n",
      "Hey, I'm null\n",
      "Hey, I'm Alex\n",
      "Sup bro?\n"
     ]
    }
   ],
   "source": [
    "class Bro {\n",
    "    static String name;\n",
    "    static String catchphrase = \"Sup bro?\";\n",
    "\n",
    "    public Bro(String name) {\n",
    "        this.name = name;\n",
    "    }\n",
    "\n",
    "    public static void sayHi() {\n",
    "        System.out.println(\"Hey, I'm \" + name);\n",
    "    }\n",
    "\n",
    "    public static void sayCatchphrase() {\n",
    "        System.out.println(catchphrase);\n",
    "    }\n",
    "\n",
    "    public static void main(String[] args) {\n",
    "        // Will this work?\n",
    "        sayCatchphrase();\n",
    "\n",
    "        // What about this one?\n",
    "        sayHi();\n",
    "\n",
    "        Bro alex = new Bro(\"Alex\");\n",
    "        alex.sayHi();\n",
    "        alex.sayCatchphrase();\n",
    "    }\n",
    "}\n",
    "\n",
    "Bro.main(null);"
   ]
  },
  {
   "cell_type": "markdown",
   "id": "6951270f",
   "metadata": {},
   "source": [
    "## Homework Hack: Ultimate Battle"
   ]
  },
  {
   "cell_type": "code",
   "execution_count": 10,
   "id": "832acfc2",
   "metadata": {
    "vscode": {
     "languageId": "java"
    }
   },
   "outputs": [
    {
     "name": "stdout",
     "output_type": "stream",
     "text": [
      "You hit with 100 Damage\n",
      "You have full health\n",
      "BATTLE HAS STARTED!\n"
     ]
    }
   ],
   "source": [
    "class Soldier {\n",
    "    String name;\n",
    "    int power;\n",
    "    int health;\n",
    "    int speed;\n",
    "\n",
    "    void attack() {\n",
    "        System.out.println(\"You hit with 100 Damage\");\n",
    "    };\n",
    "    void printStatus() {\n",
    "        System.out.println(\"You have full health\");\n",
    "    };\n",
    "}\n",
    "\n",
    "public class Main {\n",
    "    public static void main(String[] args) {\n",
    "        Soldier soldier = new Soldier();\n",
    "\n",
    "        soldier.attack();\n",
    "        soldier.printStatus();\n",
    "\n",
    "        System.out.println(\"BATTLE HAS STARTED!\");\n",
    "    }\n",
    "}\n",
    "\n",
    "Main.main(null);"
   ]
  }
 ],
 "metadata": {
  "kernelspec": {
   "display_name": "java (JJava/j!)",
   "language": "java",
   "name": "jbang-jjava"
  },
  "language_info": {
   "codemirror_mode": "java",
   "file_extension": ".jshell",
   "mimetype": "text/x-java-source",
   "name": "Java",
   "pygments_lexer": "java",
   "version": "17.0.16+8-Ubuntu-0ubuntu122.04.1"
  }
 },
 "nbformat": 4,
 "nbformat_minor": 5
}
