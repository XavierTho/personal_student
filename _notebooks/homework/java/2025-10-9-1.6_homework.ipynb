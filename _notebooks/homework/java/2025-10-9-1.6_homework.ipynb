{
 "cells": [
  {
   "cell_type": "markdown",
   "id": "b7dbb37f",
   "metadata": {},
   "source": [
    "---\n",
    "layout: post\n",
    "title: \"1.6 HW Hacks\"\n",
    "permalink: /csa/unit_01/1_6\n"
   ]
  },
  {
   "cell_type": "markdown",
   "id": "7c98902c",
   "metadata": {},
   "source": [
    "## Popcorn Hack 2"
   ]
  },
  {
   "cell_type": "code",
   "execution_count": 4,
   "id": "d1ce35ac",
   "metadata": {
    "vscode": {
     "languageId": "java"
    }
   },
   "outputs": [
    {
     "name": "stdout",
     "output_type": "stream",
     "text": [
      "167\n",
      "67\n",
      "134\n"
     ]
    }
   ],
   "source": [
    "public class Main {\n",
    "    public static void main(String[] args) {\n",
    "        int score = 100;\n",
    "\n",
    "        score += 67;\n",
    "        System.out.println(score);\n",
    "\n",
    "        score -= 100;\n",
    "        System.out.println(score);\n",
    "\n",
    "        score *= 2;\n",
    "        System.out.println(score);\n",
    "    }\n",
    "}\n",
    "\n",
    "Main.main(null);"
   ]
  }
 ],
 "metadata": {
  "kernelspec": {
   "display_name": "java (JJava/j!)",
   "language": "java",
   "name": "jbang-jjava"
  },
  "language_info": {
   "codemirror_mode": "java",
   "file_extension": ".jshell",
   "mimetype": "text/x-java-source",
   "name": "Java",
   "pygments_lexer": "java",
   "version": "17.0.16+8-Ubuntu-0ubuntu122.04.1"
  }
 },
 "nbformat": 4,
 "nbformat_minor": 5
}
