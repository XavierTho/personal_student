{
 "cells": [
  {
   "cell_type": "raw",
   "id": "b7dbb37f",
   "metadata": {},
   "source": [
    "---\n",
    "layout: post\n",
    "title: \"1.6 HW Hacks\"\n",
    "permalink: /csa/unit_01/1_6\n",
    "---"
   ]
  },
  {
   "cell_type": "markdown",
   "id": "fc87e01a",
   "metadata": {},
   "source": [
    "## Popcorn Hack 1"
   ]
  },
  {
   "cell_type": "code",
   "execution_count": 2,
   "id": "bd930c05",
   "metadata": {
    "vscode": {
     "languageId": "java"
    }
   },
   "outputs": [],
   "source": [
    "int playerScore = 1000;\n",
    "int playerHealth = 100;\n",
    "int enemiesDefeated = 0;\n",
    "\n",
    "\n",
    "// Player defeats an enemy worth 250 points\n",
    "playerScore += 250;\n",
    "\n",
    "// Player takes 15 damage\n",
    "playerHealth -= 15;\n",
    "\n",
    "// Enemy count goes up\n",
    "enemiesDefeated++;\n",
    "\n",
    "// Boss battle: double the current score!\n",
    "playerScore *= 2;\n",
    "\n",
    "// Healing potion restores health to 80% of current\n",
    "playerHealth = playerHealth * 4;\n",
    "playerHealth = playerHealth / 5;"
   ]
  },
  {
   "cell_type": "markdown",
   "id": "7c98902c",
   "metadata": {},
   "source": [
    "## Popcorn Hack 2"
   ]
  },
  {
   "cell_type": "code",
   "execution_count": 4,
   "id": "d1ce35ac",
   "metadata": {
    "vscode": {
     "languageId": "java"
    }
   },
   "outputs": [
    {
     "name": "stdout",
     "output_type": "stream",
     "text": [
      "167\n",
      "67\n",
      "134\n"
     ]
    }
   ],
   "source": [
    "public class Main {\n",
    "    public static void main(String[] args) {\n",
    "        int score = 100;\n",
    "\n",
    "        score += 67;\n",
    "        System.out.println(score);\n",
    "\n",
    "        score -= 100;\n",
    "        System.out.println(score);\n",
    "\n",
    "        score *= 2;\n",
    "        System.out.println(score);\n",
    "    }\n",
    "}\n",
    "\n",
    "Main.main(null);"
   ]
  },
  {
   "cell_type": "markdown",
   "id": "266d4e3f",
   "metadata": {},
   "source": [
    "### Homework Hack 1\n",
    "\n",
    "Chosen Option: **Bank Account Manager**"
   ]
  },
  {
   "cell_type": "code",
   "execution_count": 28,
   "id": "6593f2bf",
   "metadata": {
    "vscode": {
     "languageId": "java"
    }
   },
   "outputs": [
    {
     "name": "stdout",
     "output_type": "stream",
     "text": [
      "Hello! Welcome to the Bank of the United States\n",
      "To interact with our system, select one the following numbers: \n",
      "1. Check your balance\n",
      "2. Add to your balance\n",
      "3. Withdraw from your balance\n",
      "4. Open and deposit into a savings account\n",
      "The offered interest rate is 5% per year\n",
      "Enter how much would you like to deposit to this savings account: \n",
      "You will make $500.00 in the next year"
     ]
    }
   ],
   "source": [
    "import java.util.Scanner;\n",
    "\n",
    "public class Main {\n",
    "    public static void main(String[] args) {\n",
    "        Scanner scanner = new Scanner(System.in);\n",
    "\n",
    "        // Initalize variables\n",
    "        double balance = 10000;\n",
    "        double interestRate = 0.05;\n",
    "\n",
    "        // Print introduction and menu of options\n",
    "        System.out.println(\"Hello! Welcome to the Bank of the United States\");\n",
    "        System.out.println(\"To interact with our system, select one the following numbers: \");\n",
    "        System.out.println(\"1. Check your balance\");\n",
    "        System.out.println(\"2. Add to your balance\");\n",
    "        System.out.println(\"3. Withdraw from your balance\");\n",
    "        System.out.println(\"4. Open and deposit into a savings account\");\n",
    "        int response = scanner.nextInt();\n",
    "\n",
    "        // React accordingly to their selected option\n",
    "        if (response == 1) {\n",
    "            System.out.printf(\"Your balance is $%,.2f\", balance);\n",
    "        } else if (response == 2) {\n",
    "            // Prompt user\n",
    "            System.out.print(\"Enter how much money you would like to deposit: \");\n",
    "            double deposit = scanner.nextDouble();\n",
    "\n",
    "            // Add to balance\n",
    "            balance += deposit;\n",
    "\n",
    "            // Print new balance\n",
    "            System.out.printf(\"\\nYour new balance is $%,.2f\", balance);\n",
    "        } else if (response == 3) {\n",
    "            // Prompt user\n",
    "            System.out.print(\"Enter how much money you would like to withdraw: \");\n",
    "            double withdraw = scanner.nextDouble();\n",
    "\n",
    "            // Remove from balance\n",
    "            balance -= withdraw;\n",
    "\n",
    "            // Print new balance\n",
    "            System.out.printf(\"\\nYour new balance is $%,.2f\", balance);\n",
    "        } else if (response == 4) {\n",
    "            // Prompt user\n",
    "            System.out.println(\"The offered interest rate is 5% per year\");\n",
    "            System.out.print(\"Enter how much would you like to deposit to this savings account: \");\n",
    "            double savings = scanner.nextDouble();\n",
    "\n",
    "            savings *= 0.05;\n",
    "\n",
    "            System.out.printf(\"\\nYou will make $%,.2f in the next year\", savings);\n",
    "        }\n",
    "\n",
    "\n",
    "       \n",
    "\n",
    "        scanner.close();\n",
    "    }\n",
    "}\n",
    "\n",
    "Main.main(null);"
   ]
  }
 ],
 "metadata": {
  "kernelspec": {
   "display_name": "java (JJava/j!)",
   "language": "java",
   "name": "jbang-jjava"
  },
  "language_info": {
   "codemirror_mode": "java",
   "file_extension": ".jshell",
   "mimetype": "text/x-java-source",
   "name": "Java",
   "pygments_lexer": "java",
   "version": "17.0.16+8-Ubuntu-0ubuntu122.04.1"
  }
 },
 "nbformat": 4,
 "nbformat_minor": 5
}
