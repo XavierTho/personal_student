{
 "cells": [
  {
   "cell_type": "markdown",
   "id": "3a5e57c0",
   "metadata": {},
   "source": [
    "---\n",
    "layout: post\n",
    "title: \"1.12 HW Hacks\"\n",
    "permalink: /csa/unit_01/1_12\n",
    "---"
   ]
  },
  {
   "cell_type": "markdown",
   "id": "169a8529",
   "metadata": {
    "vscode": {
     "languageId": "plaintext"
    }
   },
   "source": [
    "## Popcorn Hack"
   ]
  },
  {
   "cell_type": "code",
   "execution_count": 7,
   "id": "576aca5f",
   "metadata": {
    "vscode": {
     "languageId": "java"
    }
   },
   "outputs": [
    {
     "name": "stdout",
     "output_type": "stream",
     "text": [
      "The book is The Return of the King and it is 452 pages long"
     ]
    }
   ],
   "source": [
    "class Book {\n",
    "    String title;\n",
    "    int pages;\n",
    "\n",
    "    Book(String title, int pages) {\n",
    "        this.title = title;\n",
    "        this.pages = pages;\n",
    "    }\n",
    "\n",
    "    void printInfo() {\n",
    "        System.out.printf(\"The book is %s and it is %d pages long\", title, pages);\n",
    "    }\n",
    "}\n",
    "\n",
    "Book book = new Book(\"The Return of the King\", 452);\n",
    "book.printInfo();"
   ]
  },
  {
   "cell_type": "markdown",
   "id": "f1886119",
   "metadata": {
    "vscode": {
     "languageId": "java"
    }
   },
   "source": [
    "## Homework Hack"
   ]
  },
  {
   "cell_type": "code",
   "execution_count": 16,
   "id": "6559c4e8",
   "metadata": {
    "vscode": {
     "languageId": "java"
    }
   },
   "outputs": [
    {
     "name": "stdout",
     "output_type": "stream",
     "text": [
      "Joseph\n",
      "Jill\n",
      "Sam\n"
     ]
    }
   ],
   "source": [
    "class Student {\n",
    "    String name;\n",
    "    int pets;\n",
    "    int siblings;\n",
    "    char sex;\n",
    "    String race;\n",
    "\n",
    "\n",
    "    Student(String name, int pets, int siblings, char sex, String race) {\n",
    "        this.name = name;\n",
    "        this.pets = pets;\n",
    "        this.siblings = siblings;\n",
    "        this.sex = sex;\n",
    "        this.race = race;\n",
    "    }\n",
    "}\n",
    "\n",
    "public class Main {\n",
    "    public static void main(String[] args) {\n",
    "        Student student1 = new Student(\"Joseph\", 1, 2, 'm', \"Irish\"); \n",
    "        Student student2 = new Student(\"Jill\", 0, 1, 'f', \"Irish\");\n",
    "        Student student3 = new Student(\"Sam\", 0, 0, 'm', \"African\");\n",
    "\n",
    "        System.out.println(student1.name);\n",
    "        System.out.println(student2.name);\n",
    "        System.out.println(student3.name);\n",
    "    }\n",
    "}\n",
    "\n",
    "Main.main(null);"
   ]
  }
 ],
 "metadata": {
  "kernelspec": {
   "display_name": "java (JJava/j!)",
   "language": "java",
   "name": "jbang-jjava"
  },
  "language_info": {
   "codemirror_mode": "java",
   "file_extension": ".jshell",
   "mimetype": "text/x-java-source",
   "name": "Java",
   "pygments_lexer": "java",
   "version": "17.0.16+8-Ubuntu-0ubuntu122.04.1"
  }
 },
 "nbformat": 4,
 "nbformat_minor": 5
}
