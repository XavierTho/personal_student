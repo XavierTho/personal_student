{
 "cells": [
  {
   "cell_type": "markdown",
   "id": "3a5e57c0",
   "metadata": {},
   "source": [
    "---\n",
    "layout: post\n",
    "title: \"1.12 HW Hacks\"\n",
    "permalink: /csa/unit_01/1_12\n",
    "---"
   ]
  }
 ],
 "metadata": {
  "language_info": {
   "name": "python"
  }
 },
 "nbformat": 4,
 "nbformat_minor": 5
}
