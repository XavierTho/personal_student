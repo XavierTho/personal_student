{
 "cells": [
  {
   "cell_type": "raw",
   "id": "15ef79b5",
   "metadata": {
    "vscode": {
     "languageId": "raw"
    }
   },
   "source": [
    "---\n",
    "layout: post\n",
    "title: \"1.13 HW Hacks\"\n",
    "permalink: /csa/unit_01/1_13\n",
    "---"
   ]
  },
  {
   "cell_type": "markdown",
   "id": "a13cfd15",
   "metadata": {},
   "source": [
    "## Homework Hack 1"
   ]
  },
  {
   "cell_type": "code",
   "execution_count": 13,
   "id": "e29b3f11",
   "metadata": {
    "vscode": {
     "languageId": "java"
    }
   },
   "outputs": [
    {
     "ename": "CompilationException",
     "evalue": "",
     "output_type": "error",
     "traceback": [
      "\u001b[1m\u001b[30m|   \u001b[1m\u001b[30mString car1 = \u001b[0m\u001b[1m\u001b[30m\u001b[41mCar\u001b[0m\u001b[1m\u001b[30m(\"Tesla\", \"2024\");\u001b[0m",
      "\u001b[1m\u001b[31mcannot find symbol\u001b[0m",
      "\u001b[1m\u001b[31m  symbol:   method Car(java.lang.String,java.lang.String)\u001b[0m",
      ""
     ]
    }
   ],
   "source": [
    "public class ObjectCreation {\n",
    "    public static void main(String[] args) {\n",
    "        Car car1 = new Car(\"Tesla\", 2024);\n",
    "\n",
    "        System.out.println(car1);\n",
    "    }\n",
    "}\n",
    "\n",
    "class Car {\n",
    "    // 1. Declare variables: brand, year\n",
    "    String brand;\n",
    "    int year;\n",
    "\n",
    "    // 2. Create a constructor to set those variables\n",
    "    public Car(String brand, int year) {\n",
    "        this.brand = brand;\n",
    "        this.year = year;\n",
    "    }\n",
    "\n",
    "\n",
    "    // 3. Add a method or toString() to display car info\n",
    "    public void displayInfo() {\n",
    "        System.out.println(brand);\n",
    "        System.out.println(year);\n",
    "    }\n",
    "}\n",
    "\n",
    "String car1 = Car(\"Tesla\", \"2024\");\n"
   ]
  }
 ],
 "metadata": {
  "kernelspec": {
   "display_name": "java (JJava/j!)",
   "language": "java",
   "name": "jbang-jjava"
  },
  "language_info": {
   "codemirror_mode": "java",
   "file_extension": ".jshell",
   "mimetype": "text/x-java-source",
   "name": "Java",
   "pygments_lexer": "java",
   "version": "17.0.16+8-Ubuntu-0ubuntu122.04.1"
  }
 },
 "nbformat": 4,
 "nbformat_minor": 5
}
