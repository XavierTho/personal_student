{
 "cells": [
  {
   "cell_type": "raw",
   "id": "15ef79b5",
   "metadata": {
    "vscode": {
     "languageId": "raw"
    }
   },
   "source": [
    "---\n",
    "layout: post\n",
    "title: \"1.13 HW Hacks\"\n",
    "permalink: /csa/unit_01/1_13\n",
    "---"
   ]
  },
  {
   "cell_type": "markdown",
   "id": "467e4f21",
   "metadata": {},
   "source": [
    "## Popcorn Hack 1"
   ]
  },
  {
   "cell_type": "markdown",
   "id": "494090fc",
   "metadata": {
    "vscode": {
     "languageId": "raw"
    }
   },
   "source": [
    "1. Why does changing b not affect a, but changing array2 affects array1?\n",
    "b and a are primitive values meaning that their values are directly stored in the variable. However, for array2 and array1, they store a pointer that reference a point in memory.\n",
    "\n",
    "2. Describe what’s on the stack vs. the heap for this code.\n",
    "Stack memory stores primitive variables while heap memory is stored in dynamic memory."
   ]
  },
  {
   "cell_type": "markdown",
   "id": "478aabce",
   "metadata": {},
   "source": [
    "## Popcorn Hack 2"
   ]
  },
  {
   "cell_type": "markdown",
   "id": "8c0857da",
   "metadata": {},
   "source": [
    "1. 21\n",
    "2. Still age 21\n",
    "3. Both ages are still referencing the same thign"
   ]
  },
  {
   "cell_type": "markdown",
   "id": "a13cfd15",
   "metadata": {},
   "source": [
    "## Homework Hack 1"
   ]
  },
  {
   "cell_type": "code",
   "execution_count": 10,
   "id": "e29b3f11",
   "metadata": {
    "vscode": {
     "languageId": "java"
    }
   },
   "outputs": [
    {
     "name": "stdout",
     "output_type": "stream",
     "text": [
      "Tesla\n",
      "2024\n"
     ]
    }
   ],
   "source": [
    "public class ObjectCreation {\n",
    "    public static void main(String[] args) {\n",
    "        Car car1 = new Car(\"Tesla\", 2024);\n",
    "\n",
    "        System.out.println(car1);\n",
    "    }\n",
    "}\n",
    "\n",
    "class Car {\n",
    "    // 1. Declare variables: brand, year\n",
    "    private String brand;\n",
    "    private int year;\n",
    "\n",
    "    // 2. Create a constructor to set those variables\n",
    "    Car(String brand, int year) {\n",
    "        this.brand = brand;\n",
    "        this.year = year;\n",
    "    }\n",
    "\n",
    "    // 3. Add a method or toString() to display car info\n",
    "    public void displayInfo() {\n",
    "        System.out.println(brand);\n",
    "        System.out.println(year);\n",
    "    }\n",
    "}\n",
    "\n",
    "Car car1 = new Car(\"Tesla\", 2024);\n",
    "car1.displayInfo();\n"
   ]
  },
  {
   "cell_type": "markdown",
   "id": "a65224c9",
   "metadata": {},
   "source": [
    "## Homework Hack 2"
   ]
  },
  {
   "cell_type": "code",
   "execution_count": 30,
   "id": "55f027eb",
   "metadata": {
    "vscode": {
     "languageId": "java"
    }
   },
   "outputs": [
    {
     "name": "stdout",
     "output_type": "stream",
     "text": [
      "The title of the book is Return\n",
      "Book 1 pages: 300\n",
      "The title of the book is Return\n",
      "Book 2 pages: 100\n"
     ]
    }
   ],
   "source": [
    "// Homework Hack #2: Heap vs Stack Storage Demo\n",
    "\n",
    "public class HeapVsStack {\n",
    "    public static void main(String[] args) {\n",
    "        // 1. Create a primitive variable (int pages)\n",
    "        int pages = 100;\n",
    "        \n",
    "        // 2. Create another primitive variable that copies it\n",
    "        int length = pages;\n",
    "        \n",
    "        // 3. Create a Book object (Book b1 = new Book(\"Java Basics\");)\n",
    "        Book b1 = new Book(\"Java Basics\");\n",
    "        \n",
    "        // 4. Create another Book reference (Book b2 = b1;)\n",
    "        Book b2 = b1;\n",
    "        \n",
    "        // 5. Change the original primitive and the Book title\n",
    "        pages = 300;\n",
    "        b1.bookTitle = \"Return\";\n",
    "        \n",
    "        // 6. Print both sets of values to compare behavior\n",
    "        b1.printTitle();\n",
    "        System.out.println(\"Book 1 pages: \" + pages);\n",
    "        b2.printTitle();\n",
    "        System.out.println(\"Book 2 pages: \" + length);\n",
    "    }\n",
    "}\n",
    "\n",
    "class Book {\n",
    "    // 1. Declare variable: String title\n",
    "    public String title;\n",
    "    public String bookTitle;\n",
    "    \n",
    "    // 2. Create a constructor to set the title\n",
    "    Book(String title) {\n",
    "        this.bookTitle = title;\n",
    "    }\n",
    "\n",
    "    public void setTitle(String newTitle) {\n",
    "        this.bookTitle = newTitle;\n",
    "    }\n",
    "    \n",
    "    // 3. Create a toString() to show the title\n",
    "    public void printTitle() {\n",
    "        System.out.println(\"The title of the book is \" + this.bookTitle);\n",
    "    }\n",
    "}\n",
    "\n",
    "HeapVsStack.main(null);"
   ]
  }
 ],
 "metadata": {
  "kernelspec": {
   "display_name": "java (JJava/j!)",
   "language": "java",
   "name": "jbang-jjava"
  },
  "language_info": {
   "codemirror_mode": "java",
   "file_extension": ".jshell",
   "mimetype": "text/x-java-source",
   "name": "Java",
   "pygments_lexer": "java",
   "version": "17.0.16+8-Ubuntu-0ubuntu122.04.1"
  }
 },
 "nbformat": 4,
 "nbformat_minor": 5
}
