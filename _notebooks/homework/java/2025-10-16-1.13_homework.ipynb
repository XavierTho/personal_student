{
 "cells": [
  {
   "cell_type": "raw",
   "id": "15ef79b5",
   "metadata": {
    "vscode": {
     "languageId": "raw"
    }
   },
   "source": [
    "---\n",
    "layout: post\n",
    "title: \"1.13 HW Hacks\"\n",
    "permalink: /csa/unit_01/1_13\n",
    "---"
   ]
  },
  {
   "cell_type": "markdown",
   "id": "a13cfd15",
   "metadata": {},
   "source": []
  }
 ],
 "metadata": {
  "language_info": {
   "name": "python"
  }
 },
 "nbformat": 4,
 "nbformat_minor": 5
}
