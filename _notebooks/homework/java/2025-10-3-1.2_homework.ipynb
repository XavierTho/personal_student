{
 "cells": [
  {
   "cell_type": "markdown",
   "id": "db2e1a3b",
   "metadata": {},
   "source": [
    "---\n",
    "layout: post\n",
    "title: \"1.2 HW Hacks\"\n",
    "permalink: /csa/unit_01/1_2\n",
    "---"
   ]
  },
  {
   "cell_type": "markdown",
   "id": "d627460a",
   "metadata": {},
   "source": [
    "## Variables and Data Types (1.2) Homework Hacks"
   ]
  },
  {
   "cell_type": "markdown",
   "id": "beaeb4c6",
   "metadata": {},
   "source": [
    "### Hack (Simple Grade Calculator)\n"
   ]
  },
  {
   "cell_type": "code",
   "execution_count": 5,
   "id": "cb595729",
   "metadata": {
    "vscode": {
     "languageId": "java"
    }
   },
   "outputs": [],
   "source": [
    "import java.util.Scanner;\n",
    "\n",
    "public class GradeCalculator {\n",
    "    public static void main(String[] args) {\n",
    "        Scanner scanner = new Scanner(System.in);\n",
    "\n",
    "        System.out.print(\"Enter your name: \");\n",
    "        String name = scanner.nextLine();\n",
    "\n",
    "        System.out.print(\"Enter the class name: \");\n",
    "        String className = scanner.nextLine();\n",
    "\n",
    "        System.out.print(\"Enter your first test score: \");\n",
    "        double scoreOne = scanner.nextDouble();\n",
    "\n",
    "        System.out.print(\"Enter your second test score: \");\n",
    "        double scoreTwo = scanner.nextDouble();\n",
    "\n",
    "        System.out.print(\"Enter your third test score: \");\n",
    "        double scoreThree = scanner.nextDouble();\n",
    "\n",
    "        double averageScore = (scoreOne + scoreTwo + scoreThree) / 3;\n",
    "\n",
    "        if (averageScore >= 90) {\n",
    "            System.out.println(\"A\");\n",
    "        } else if (averageScore >= 80) {\n",
    "            System.out.println(\"B\");\n",
    "        } else if (averageScore >= 70) {\n",
    "            System.out.println(\"C\");\n",
    "        } else if (averageScore >= 60) {\n",
    "            System.out.println(\"D\");\n",
    "        } else {\n",
    "            System.out.println(\"F\");\n",
    "        }\n",
    "\n",
    "        scanner.close();\n",
    "    }\n",
    "}"
   ]
  }
 ],
 "metadata": {
  "kernelspec": {
   "display_name": "java (JJava/j!)",
   "language": "java",
   "name": "jbang-jjava"
  },
  "language_info": {
   "codemirror_mode": "java",
   "file_extension": ".jshell",
   "mimetype": "text/x-java-source",
   "name": "Java",
   "pygments_lexer": "java",
   "version": "17.0.16+8-Ubuntu-0ubuntu122.04.1"
  }
 },
 "nbformat": 4,
 "nbformat_minor": 5
}
