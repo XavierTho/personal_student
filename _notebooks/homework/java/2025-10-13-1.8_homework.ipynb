{
 "cells": [
  {
   "cell_type": "raw",
   "id": "baa457ee",
   "metadata": {
    "vscode": {
     "languageId": "raw"
    }
   },
   "source": [
    "---\n",
    "layout: post\n",
    "title: \"1.8 HW Hacks\"\n",
    "permalink: /csa/unit_01/1_8\n",
    "---"
   ]
  },
  {
   "cell_type": "markdown",
   "id": "c43a97ba",
   "metadata": {},
   "source": [
    "## Popcorn Hack #1"
   ]
  },
  {
   "cell_type": "code",
   "execution_count": null,
   "id": "4d474b9b",
   "metadata": {
    "vscode": {
     "languageId": "java"
    }
   },
   "outputs": [],
   "source": [
    "// Initialize and loop over a number\n",
    "// Check if the number is even\n",
    "public int doSomething(int[] nums) {\n",
    "    int result = 0;\n",
    "    for (int i = 0; i < nums.length; i++) {\n",
    "        if (nums[i] > 0 && nums[i] % 2 == 0) {\n",
    "            result += nums[i];\n",
    "        }\n",
    "    }\n",
    "    return result;\n",
    "}"
   ]
  },
  {
   "cell_type": "markdown",
   "id": "6b61a84c",
   "metadata": {},
   "source": [
    "## Popcorn Hack #2\n"
   ]
  },
  {
   "cell_type": "code",
   "execution_count": 6,
   "id": "5c3f602d",
   "metadata": {
    "vscode": {
     "languageId": "java"
    }
   },
   "outputs": [
    {
     "ename": "CompilationException",
     "evalue": "",
     "output_type": "error",
     "traceback": [
      "\u001b[1m\u001b[30m|   \u001b[1m\u001b[30mpublic double calculateFinalGrade() \u001b[0m\u001b[1m\u001b[30m\u001b[41m{ }\u001b[0m\u001b[1m\u001b[30m\u001b[0m",
      "\u001b[1m\u001b[31mmissing return statement\u001b[0m",
      ""
     ]
    }
   ],
   "source": [
    "// Take in the category, name, and score of an assignment\n",
    "public void addAssignment(String category, String name, double score) { }\n",
    "\n",
    "// Set how much a particular category is weighted\n",
    "public void setCategoryWeight(String category, double weight) { }\n",
    "\n",
    "// Calculate the final grade\n",
    "public double calculateFinalGrade() { }\n",
    "\n",
    "// Generate Report based off acquired data\n",
    "public String generateReport() { } "
   ]
  }
 ],
 "metadata": {
  "kernelspec": {
   "display_name": "java (JJava/j!)",
   "language": "java",
   "name": "jbang-jjava"
  },
  "language_info": {
   "codemirror_mode": "java",
   "file_extension": ".jshell",
   "mimetype": "text/x-java-source",
   "name": "Java",
   "pygments_lexer": "java",
   "version": "17.0.16+8-Ubuntu-0ubuntu122.04.1"
  }
 },
 "nbformat": 4,
 "nbformat_minor": 5
}
