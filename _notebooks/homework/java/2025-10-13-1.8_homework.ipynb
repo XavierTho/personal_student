{
 "cells": [
  {
   "cell_type": "raw",
   "id": "baa457ee",
   "metadata": {
    "vscode": {
     "languageId": "raw"
    }
   },
   "source": [
    "---\n",
    "layout: post\n",
    "title: \"1.8 HW Hacks\"\n",
    "permalink: /csa/unit_01/1_8\n",
    "---"
   ]
  },
  {
   "cell_type": "markdown",
   "id": "c43a97ba",
   "metadata": {},
   "source": []
  }
 ],
 "metadata": {
  "language_info": {
   "name": "python"
  }
 },
 "nbformat": 4,
 "nbformat_minor": 5
}
