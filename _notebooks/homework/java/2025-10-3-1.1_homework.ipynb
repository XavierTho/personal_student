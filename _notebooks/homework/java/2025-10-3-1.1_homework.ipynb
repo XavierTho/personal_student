{
 "cells": [
  {
   "cell_type": "markdown",
   "id": "5fe33411",
   "metadata": {},
   "source": [
    "---\n",
    "layout: post\n",
    "title: \"1.1 HW Hacks\"\n",
    "permalink: /csa/unit_01/1_1\n",
    "author: Xavier T\n",
    "---"
   ]
  },
  {
   "cell_type": "markdown",
   "id": "79f0ad07",
   "metadata": {},
   "source": [
    "## Algorithms (1.1) Homework Hacks"
   ]
  },
  {
   "cell_type": "markdown",
   "id": "60bba6ce",
   "metadata": {},
   "source": [
    "### Hack 1\n",
    "Chosen algorithm: **Making a pizza from scratch**\n",
    "\n",
    "<ol>\n",
    "    <li>Go to the store</li>\n",
    "    <li>Get tomato sauce, cheese, and pizza bread</li>\n",
    "    <li>Go back to the place where the pizza will be made</li>\n",
    "    <li>Get supplies ready</li>\n",
    "    <li>Put sauce on pizza bread</li>\n",
    "    <li>Spread the sauce so it covers the entire pizza</li>\n",
    "    <li>Put cheese on top of sauce so that it covers the entire pizza</li>\n",
    "    <li>Place pizza on a tray</li>\n",
    "    <li>Warm the oven to 450°F</li>\n",
    "    <li>Put tray with pizza in the oven for 15 minutes</li>\n",
    "    <li>Take pizza out</li>\n",
    "    <li>Cut pizza in half horizontally</li>\n",
    "    <li>Cut pizza in half vertically</li>\n",
    "    <li>Cut pizza diagonally from the left</li>\n",
    "    <li>Cut pizza diagonally from the right</li>\n",
    "</ol>"
   ]
  },
  {
   "cell_type": "markdown",
   "id": "6953b234",
   "metadata": {},
   "source": [
    "### Hack 2\n",
    "Fixed algorithm:\n",
    "\n",
    "<ol>\n",
    "    <li>Open email application</li>\n",
    "    <li>Log into your account</li>\n",
    "    <li>Enter recipient's email address</li>\n",
    "    <li>Write subject line</li>\n",
    "    <li>Type the message</li>\n",
    "    <li>Click send</li >\n",
    "</ol>"
   ]
  },
  {
   "cell_type": "markdown",
   "id": "2dcb7a28",
   "metadata": {},
   "source": [
    "### Hack 3"
   ]
  },
  {
   "cell_type": "code",
   "execution_count": 2,
   "id": "54231315",
   "metadata": {},
   "outputs": [
    {
     "name": "stdout",
     "output_type": "stream",
     "text": [
      "Enter score 1: \n",
      "Enter score 2: \n",
      "Enter score 3: \n",
      "Grade is F\n"
     ]
    }
   ],
   "source": [
    "print(\"Enter score 1: \")\n",
    "scoreOne = int(input())\n",
    "\n",
    "print(\"Enter score 2: \")\n",
    "scoreTwo = int(input())\n",
    "\n",
    "print(\"Enter score 3: \")\n",
    "scoreThree = int(input())\n",
    "\n",
    "averageScore = (scoreOne + scoreTwo + scoreThree) / 3\n",
    "\n",
    "if averageScore >= 90:\n",
    "    print(\"Grade is A\")\n",
    "elif averageScore >= 80:\n",
    "    print(\"Grade is B\")\n",
    "elif averageScore >= 70:\n",
    "    print(\"Grade is C\")\n",
    "elif averageScore >=60:\n",
    "    print(\"Grade is D\")\n",
    "else:\n",
    "    print(\"Grade is F\")"
   ]
  }
 ],
 "metadata": {
  "kernelspec": {
   "display_name": "venv",
   "language": "python",
   "name": "python3"
  },
  "language_info": {
   "codemirror_mode": {
    "name": "ipython",
    "version": 3
   },
   "file_extension": ".py",
   "mimetype": "text/x-python",
   "name": "python",
   "nbconvert_exporter": "python",
   "pygments_lexer": "ipython3",
   "version": "3.10.12"
  }
 },
 "nbformat": 4,
 "nbformat_minor": 5
}
