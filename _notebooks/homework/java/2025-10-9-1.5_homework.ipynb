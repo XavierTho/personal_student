{
 "cells": [
  {
   "cell_type": "markdown",
   "id": "d4eee903",
   "metadata": {},
   "source": [
    "---\n",
    "layout: post\n",
    "title: \"1.5 HW Hacks\"\n",
    "permalink: /csa/unit_01/1_5\n",
    "---"
   ]
  },
  {
   "cell_type": "markdown",
   "id": "4af1283a",
   "metadata": {},
   "source": [
    "From the instructions of the submission, it said to have the entire notebook (assuming your lesson notebook) with all code cells executed. I hope I interpreted  the instructions correctly."
   ]
  },
  {
   "cell_type": "code",
   "execution_count": null,
   "id": "21b59f54",
   "metadata": {
    "vscode": {
     "languageId": "java"
    }
   },
   "outputs": [
    {
     "name": "stdout",
     "output_type": "stream",
     "text": [
      "2\n",
      "2.5\n",
      "3\n",
      "4\n"
     ]
    }
   ],
   "source": [
    "int a = 5, b = 2;\n",
    "System.out.println(a / b);\n",
    "System.out.println((double)a / b);\n",
    "System.out.println((int)3.9);\n",
    "System.out.println((int)(3.9 + 0.5));"
   ]
  },
  {
   "cell_type": "code",
   "execution_count": null,
   "id": "fc5bd6c1",
   "metadata": {
    "vscode": {
     "languageId": "java"
    }
   },
   "outputs": [
    {
     "name": "stdout",
     "output_type": "stream",
     "text": [
      "3\n",
      "3.5\n",
      "5\n",
      "6 -6\n"
     ]
    }
   ],
   "source": [
    "public class CastDemo {\n",
    "    public static void main(String[] args) {\n",
    "        int a = 7, b = 2;\n",
    "        System.out.println(a / b);          // 3  (int division)\n",
    "        System.out.println((double)a / b);  // 3.5 (promoted to double before divide)\n",
    "\n",
    "        double d = 5.9;\n",
    "        int t = (int) d;                    // 5  (truncate toward 0)\n",
    "        System.out.println(t);\n",
    "\n",
    "        // Rounding to nearest int (per CED):\n",
    "        int rPos = (int)(d + 0.5);          // 6  (non-negative rounding)\n",
    "        double n = -5.9;\n",
    "        int rNeg = (int)(n - 0.5);          // -6 (negative rounding)\n",
    "        System.out.println(rPos + \" \" + rNeg);\n",
    "    }\n",
    "}\n",
    "\n",
    "CastDemo.main(null);"
   ]
  },
  {
   "cell_type": "code",
   "execution_count": null,
   "id": "7045a1f0",
   "metadata": {
    "vscode": {
     "languageId": "java"
    }
   },
   "outputs": [
    {
     "name": "stdout",
     "output_type": "stream",
     "text": [
      "-2147483648\n",
      "2147483647\n"
     ]
    }
   ],
   "source": [
    "int max = Integer.MAX_VALUE;  //  2147483647\n",
    "int min = Integer.MIN_VALUE;  // -2147483648\n",
    "\n",
    "System.out.println(max + 1);  // overflow → -2147483648\n",
    "System.out.println(min - 1);  // overflow →  2147483647"
   ]
  },
  {
   "cell_type": "code",
   "execution_count": null,
   "id": "58a88bf9",
   "metadata": {
    "vscode": {
     "languageId": "java"
    }
   },
   "outputs": [
    {
     "name": "stdout",
     "output_type": "stream",
     "text": [
      "INT_MIN, INT_MAX: -2147483648 2147483647\n",
      "Overflow examples:\n",
      "MAX+1 = -2147483648\n",
      "MIN-1 = 2147483647\n",
      "(-7)/2  = -3   (-7)%2 = -1\n",
      "(7)/-2  = -3   (7)%-2 = 1\n"
     ]
    }
   ],
   "source": [
    "\n",
    "# Utilities to simulate Java 32-bit signed int in Python\n",
    "INT_MIN = -2**31\n",
    "INT_MAX =  2**31 - 1\n",
    "MASK32  =  0xFFFFFFFF\n",
    "\n",
    "def to_int32(x: int) -> int:\n",
    "    x &= MASK32\n",
    "    # convert to signed\n",
    "    return x if x <= INT_MAX else x - (1 << 32)\n",
    "\n",
    "def add_int32(a: int, b: int) -> int:\n",
    "    return to_int32(a + b)\n",
    "\n",
    "def sub_int32(a: int, b: int) -> int:\n",
    "    return to_int32(a - b)\n",
    "\n",
    "def mul_int32(a: int, b: int) -> int:\n",
    "    return to_int32(a * b)\n",
    "\n",
    "def div_int32(a: int, b: int) -> int:\n",
    "    # Java int division truncates toward zero\n",
    "    if b == 0:\n",
    "        raise ZeroDivisionError(\"division by zero\")\n",
    "    q = int(a / b)  # Python truncates toward zero for int()\n",
    "    return to_int32(q)\n",
    "\n",
    "def mod_int32(a: int, b: int) -> int:\n",
    "    # Java remainder has same sign as dividend (a)\n",
    "    if b == 0:\n",
    "        raise ZeroDivisionError(\"mod by zero\")\n",
    "    q = div_int32(a, b)\n",
    "    r = to_int32(a - q * b)\n",
    "    return r\n",
    "\n",
    "# Demo\n",
    "print(\"INT_MIN, INT_MAX:\", INT_MIN, INT_MAX)\n",
    "print(\"Overflow examples:\")\n",
    "print(\"MAX+1 =\", add_int32(INT_MAX, 1))\n",
    "print(\"MIN-1 =\", sub_int32(INT_MIN, 1))\n",
    "print(\"(-7)/2  =\", div_int32(-7, 2), \"  (-7)%2 =\", mod_int32(-7, 2))\n",
    "print(\"(7)/-2  =\", div_int32(7, -2), \"  (7)%-2 =\", mod_int32(7, -2))\n"
   ]
  },
  {
   "cell_type": "code",
   "execution_count": null,
   "id": "60d3cd0a",
   "metadata": {
    "vscode": {
     "languageId": "java"
    }
   },
   "outputs": [
    {
     "name": "stdout",
     "output_type": "stream",
     "text": [
      "x=  5.1  truncate=  5  ced_round=  5\n",
      "x=  5.5  truncate=  5  ced_round=  6\n",
      "x=  5.9  truncate=  5  ced_round=  6\n",
      "x= -5.1  truncate= -5  ced_round= -5\n",
      "x= -5.5  truncate= -5  ced_round= -6\n",
      "x= -5.9  truncate= -5  ced_round= -6\n",
      "x= 0.49  truncate=  0  ced_round=  0\n",
      "x=-0.49  truncate=  0  ced_round=  0\n"
     ]
    }
   ],
   "source": [
    "\n",
    "def java_truncate(x: float) -> int:\n",
    "    # Casting double->int truncates toward 0\n",
    "    return int(x)  # Python int() also truncates toward 0\n",
    "\n",
    "def ced_round(x: float) -> int:\n",
    "    if x >= 0:\n",
    "        return int(x + 0.5)\n",
    "    else:\n",
    "        return int(x - 0.5)\n",
    "\n",
    "tests = [5.1, 5.5, 5.9, -5.1, -5.5, -5.9, 0.49, -0.49]\n",
    "for v in tests:\n",
    "    print(f\"x={v:5}  truncate={java_truncate(v):3}  ced_round={ced_round(v):3}\")\n"
   ]
  },
  {
   "cell_type": "code",
   "execution_count": null,
   "id": "06f2f0fc",
   "metadata": {
    "vscode": {
     "languageId": "java"
    }
   },
   "outputs": [
    {
     "name": "stdout",
     "output_type": "stream",
     "text": [
      "1.0\n",
      "1.5\n"
     ]
    }
   ],
   "source": [
    "int a = 3, b = 2;\n",
    "double x = a / b;          // 1.0   (int division then widened)\n",
    "double y = (double)a / b;  // 1.5   (promoted before divide)\n",
    "\n",
    "System.out.println(x);\n",
    "System.out.println(y);"
   ]
  },
  {
   "cell_type": "code",
   "execution_count": null,
   "id": "cd3004dd",
   "metadata": {
    "vscode": {
     "languageId": "java"
    }
   },
   "outputs": [
    {
     "name": "stdout",
     "output_type": "stream",
     "text": [
      "2\n",
      "2\n",
      "2.0\n",
      "2.5\n"
     ]
    }
   ],
   "source": [
    "int a = 10, b = 4;\n",
    "System.out.println(a / b);\n",
    "System.out.println(a % b);\n",
    "System.out.println((double)(a / b));\n",
    "System.out.println((double)a / b);"
   ]
  },
  {
   "cell_type": "code",
   "execution_count": null,
   "id": "08085ba2",
   "metadata": {
    "vscode": {
     "languageId": "java"
    }
   },
   "outputs": [
    {
     "name": "stdout",
     "output_type": "stream",
     "text": [
      "-2\n"
     ]
    },
    {
     "name": "stdout",
     "output_type": "stream",
     "text": [
      "-3\n",
      "3\n"
     ]
    }
   ],
   "source": [
    "double d = -2.6;\n",
    "System.out.println((int)d);\n",
    "System.out.println((int)(d - 0.5));\n",
    "System.out.println((int)(-d + 0.5));"
   ]
  },
  {
   "cell_type": "code",
   "execution_count": null,
   "id": "f32c3509",
   "metadata": {
    "vscode": {
     "languageId": "java"
    }
   },
   "outputs": [
    {
     "name": "stdout",
     "output_type": "stream",
     "text": [
      "2147483647\n",
      "-2147483647\n"
     ]
    }
   ],
   "source": [
    "int x = Integer.MAX_VALUE;\n",
    "int y = x + 2;\n",
    "System.out.println(x);\n",
    "System.out.println(y);"
   ]
  },
  {
   "cell_type": "code",
   "execution_count": null,
   "id": "e121e968",
   "metadata": {
    "vscode": {
     "languageId": "java"
    }
   },
   "outputs": [
    {
     "name": "stdout",
     "output_type": "stream",
     "text": [
      "a / b   = 2\n",
      "a % b   = 2\n",
      "(double)(a / b) = 2.0\n",
      "(double)a / b   = 2.5\n"
     ]
    }
   ],
   "source": [
    "\n",
    "# Q1 reasoning\n",
    "a, b = 10, 4\n",
    "print(\"a / b   =\", int(a / b))   # integer division result\n",
    "print(\"a % b   =\", a - int(a / b) * b)\n",
    "print(\"(double)(a / b) =\", float(int(a / b)))\n",
    "print(\"(double)a / b   =\", a / b)  # Python uses float division here by default"
   ]
  },
  {
   "cell_type": "code",
   "execution_count": 5,
   "id": "113b2083",
   "metadata": {
    "vscode": {
     "languageId": "java"
    }
   },
   "outputs": [
    {
     "name": "stdout",
     "output_type": "stream",
     "text": [
      "3.5\n",
      "50.0\n",
      "3\n"
     ]
    }
   ],
   "source": [
    "// FRQ 1\n",
    "public static double avgInt(int a, int b) {\n",
    "    return ((double)a + b) / 2.0;\n",
    "}\n",
    "\n",
    "// FRQ 2\n",
    "public static double percent(int correct, int total) {\n",
    "    if (total == 0) return 0.0;\n",
    "    return 100.0 * ((double) correct) / total;\n",
    "}\n",
    "\n",
    "// FRQ 3\n",
    "public static int safeMod(int a, int b) {\n",
    "    if (b == 0) return 0;\n",
    "    return a % b;\n",
    "}\n",
    "\n",
    "System.out.println(avgInt(3, 4));\n",
    "System.out.println(percent(5, 10));\n",
    "System.out.println(safeMod(3, 4));"
   ]
  },
  {
   "cell_type": "code",
   "execution_count": 6,
   "id": "f277105d",
   "metadata": {
    "vscode": {
     "languageId": "java"
    }
   },
   "outputs": [
    {
     "name": "stdout",
     "output_type": "stream",
     "text": [
      "7\n"
     ]
    }
   ],
   "source": [
    "double x = 7.9;\n",
    "int y = (int) x;\n",
    "System.out.println(y);"
   ]
  },
  {
   "cell_type": "code",
   "execution_count": 10,
   "id": "46dade8b",
   "metadata": {
    "vscode": {
     "languageId": "java"
    }
   },
   "outputs": [
    {
     "name": "stdout",
     "output_type": "stream",
     "text": [
      "10\n",
      "5.5\n"
     ]
    }
   ],
   "source": [
    "int a = 10;\n",
    "double b = 5.5;\n",
    "System.out.println(a);\n",
    "System.out.println(b);"
   ]
  },
  {
   "cell_type": "code",
   "execution_count": 8,
   "id": "92162b41",
   "metadata": {
    "vscode": {
     "languageId": "java"
    }
   },
   "outputs": [
    {
     "name": "stdout",
     "output_type": "stream",
     "text": [
      "4\n"
     ]
    }
   ],
   "source": [
    "int num = 9 / 2;\n",
    "System.out.println(num);"
   ]
  },
  {
   "cell_type": "code",
   "execution_count": 9,
   "id": "3f64e987",
   "metadata": {
    "vscode": {
     "languageId": "java"
    }
   },
   "outputs": [
    {
     "name": "stdout",
     "output_type": "stream",
     "text": [
      "16\n"
     ]
    }
   ],
   "source": [
    "double d = 15.7;\n",
    "int i = (int)(d + 0.5);\n",
    "System.out.println(i);"
   ]
  }
 ],
 "metadata": {
  "kernelspec": {
   "display_name": "java (JJava/j!)",
   "language": "java",
   "name": "jbang-jjava"
  },
  "language_info": {
   "codemirror_mode": "java",
   "file_extension": ".jshell",
   "mimetype": "text/x-java-source",
   "name": "Java",
   "pygments_lexer": "java",
   "version": "17.0.16+8-Ubuntu-0ubuntu122.04.1"
  }
 },
 "nbformat": 4,
 "nbformat_minor": 5
}
