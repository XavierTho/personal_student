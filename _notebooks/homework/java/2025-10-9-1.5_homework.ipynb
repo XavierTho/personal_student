{
 "cells": [
  {
   "cell_type": "markdown",
   "id": "d4eee903",
   "metadata": {},
   "source": [
    "---\n",
    "layout: post\n",
    "title: \"1.5 HW Hacks\"\n",
    "permalink: /csa/unit_01/1_5\n",
    "---"
   ]
  }
 ],
 "metadata": {
  "language_info": {
   "name": "python"
  }
 },
 "nbformat": 4,
 "nbformat_minor": 5
}
