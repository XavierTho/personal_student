{
 "cells": [
  {
   "cell_type": "raw",
   "id": "00e4d3d2",
   "metadata": {
    "vscode": {
     "languageId": "raw"
    }
   },
   "source": [
    "---\n",
    "layout: post\n",
    "title: \"1.9 HW Hacks\"\n",
    "permalink: /csa/unit_01/1_9"
   ]
  },
  {
   "cell_type": "markdown",
   "id": "812265e7",
   "metadata": {},
   "source": [
    "## Popcorn Hack 1"
   ]
  },
  {
   "cell_type": "code",
   "execution_count": 13,
   "id": "d831ccc6",
   "metadata": {
    "vscode": {
     "languageId": "java"
    }
   },
   "outputs": [
    {
     "name": "stdout",
     "output_type": "stream",
     "text": [
      "9\n",
      "-2\n",
      "3.5\n",
      "2.0\n"
     ]
    }
   ],
   "source": [
    "public class PopcornMax {\n",
    "    // TODO: write int version of max\n",
    "    public static int max(int x, int y) {\n",
    "        if (x > y) {\n",
    "            return x;\n",
    "        } else {\n",
    "            return y;\n",
    "        }\n",
    "    }\n",
    "\n",
    "    // TODO: write double version of max\n",
    "    public static double max(double x, double y) {\n",
    "        if (x > y) {\n",
    "            return x;\n",
    "        } else {\n",
    "            return y;\n",
    "        }\n",
    "    }\n",
    "\n",
    "    public static void main(String[] args) {\n",
    "        System.out.println(max(3, 9));      // expected: 9\n",
    "        System.out.println(max(-2, -7));    // expected: -2\n",
    "        System.out.println(max(3.5, 2.9));  // expected: 3.5\n",
    "        System.out.println(max(2, 2.0));    // should call double version → 2.0\n",
    "    }\n",
    "}\n",
    "\n",
    "\n",
    "PopcornMax.main(null);"
   ]
  },
  {
   "cell_type": "markdown",
   "id": "69036844",
   "metadata": {},
   "source": [
    "## Popcorn Hack 2"
   ]
  },
  {
   "cell_type": "code",
   "execution_count": 27,
   "id": "a5503e04",
   "metadata": {
    "vscode": {
     "languageId": "java"
    }
   },
   "outputs": [
    {
     "name": "stdout",
     "output_type": "stream",
     "text": [
      "int:42\n",
      "str:hello\n",
      "str:A!\n"
     ]
    }
   ],
   "source": [
    "public class PopcornPrint {\n",
    "    // TODO: write print(int n)\n",
    "    public static void print(int n) {\n",
    "        System.out.printf(\"int:%d\\n\", n);\n",
    "    }\n",
    "\n",
    "    // TODO: write print(String s)\n",
    "    public static void print(String s) {\n",
    "        System.out.printf(\"str:%s\\n\", s);\n",
    "    }\n",
    "    \n",
    "\n",
    "    public static void main(String[] args) {\n",
    "        print(42);          // expected: int:42\n",
    "        print(\"hello\");     // expected: str:hello\n",
    "        print('A' + \"!\");   // char + String → String → expected: str:A!\n",
    "    }\n",
    "}\n",
    "\n",
    "\n",
    "PopcornPrint.main(null);"
   ]
  },
  {
   "cell_type": "markdown",
   "id": "110c3e7a",
   "metadata": {
    "vscode": {
     "languageId": "java"
    }
   },
   "source": [
    "## Short Answers\n",
    "\n",
    "1. `int sum(int a, int b)` and `double sum(int a, int b)` cannot both exist as they have the same method signature of sum(int, int).\n",
    "2. The difference between a parameter and argument is that a parameter are placeholders for functions of variables it can accept, while arguments are real values passed into functions.  "
   ]
  },
  {
   "cell_type": "markdown",
   "id": "480d08c0",
   "metadata": {
    "vscode": {
     "languageId": "java"
    }
   },
   "source": [
    "## Coding Tasks"
   ]
  },
  {
   "cell_type": "code",
   "execution_count": 50,
   "id": "684c4858",
   "metadata": {
    "vscode": {
     "languageId": "java"
    }
   },
   "outputs": [
    {
     "name": "stdout",
     "output_type": "stream",
     "text": [
      "int\n",
      "long\n",
      "double\n",
      "7.5\n",
      "HelloHelloHelloHelloHello\n"
     ]
    }
   ],
   "source": [
    "public class Main {\n",
    "    public static int abs(int x) {\n",
    "        return (x < 0) ? x *= -1 : x;\n",
    "    }\n",
    "    \n",
    "    public static double abs(double x) {\n",
    "        return (x < 0) ? x *= -1 : x;\n",
    "    }\n",
    "\n",
    "    public static long abs(long x) {\n",
    "        return (x < 0) ? x *= -1 : x;\n",
    "    }\n",
    "    \n",
    "    public static String concat(String a, String b) {\n",
    "        return (a + b);\n",
    "    }\n",
    "\n",
    "    public static String concat(String a, int n) {\n",
    "        return a.repeat(n);\n",
    "    }\n",
    "    \n",
    "    static void show(int x) {\n",
    "        System.out.println(\"int\");\n",
    "    }\n",
    "\n",
    "    static void show(double x) {\n",
    "        System.out.println(\"double\");\n",
    "    }\n",
    "\n",
    "    static void show(long x) {\n",
    "        System.out.println(\"long\");\n",
    "    }\n",
    "\n",
    "    public static void main(String[] args) {\n",
    "        show(7);\n",
    "        show(7L);\n",
    "        show(7.0);\n",
    "\n",
    "        System.out.println(abs(-7.5));\n",
    "        System.out.println(concat(\"Hello\", 5));\n",
    "    }\n",
    "    \n",
    "}\n",
    "\n",
    "Main.main(null);"
   ]
  }
 ],
 "metadata": {
  "kernelspec": {
   "display_name": "java (JJava/j!)",
   "language": "java",
   "name": "jbang-jjava"
  },
  "language_info": {
   "codemirror_mode": "java",
   "file_extension": ".jshell",
   "mimetype": "text/x-java-source",
   "name": "Java",
   "pygments_lexer": "java",
   "version": "17.0.16+8-Ubuntu-0ubuntu122.04.1"
  }
 },
 "nbformat": 4,
 "nbformat_minor": 5
}
